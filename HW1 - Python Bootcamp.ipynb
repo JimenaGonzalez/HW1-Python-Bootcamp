{
 "cells": [
  {
   "cell_type": "code",
   "execution_count": 11,
   "metadata": {
    "collapsed": false
   },
   "outputs": [],
   "source": [
    "import numpy as np\n",
    "import matplotlib.pyplot as plt"
   ]
  },
  {
   "cell_type": "code",
   "execution_count": 12,
   "metadata": {
    "collapsed": false
   },
   "outputs": [],
   "source": [
    "houses = np.zeros((10,10))\n",
    "blue_filled = 0\n",
    "red_filled = 0\n",
    "while(blue_filled < 20):\n",
    "    x = int(np.random.random()*10)\n",
    "    y = int(np.random.random()*10)\n",
    "    if(houses[x,y] == 0):\n",
    "        houses[x,y] = 1\n",
    "        blue_filled += 1\n",
    "while(red_filled < 20):\n",
    "    x = int(np.random.random()*10)\n",
    "    y = int(np.random.random()*10)\n",
    "    if(houses[x,y] == 0):\n",
    "        houses[x,y] = -1\n",
    "        red_filled += 1"
   ]
  },
  {
   "cell_type": "code",
   "execution_count": 13,
   "metadata": {
    "collapsed": false
   },
   "outputs": [
    {
     "name": "stdout",
     "output_type": "stream",
     "text": [
      "[[ 0. -1. -1. -1.  0.  0.  1. -1.  0.  1.]\n",
      " [ 1. -1.  0.  0.  1.  1.  0.  0.  1.  1.]\n",
      " [ 0.  0.  1.  0.  0.  0.  0. -1.  0.  0.]\n",
      " [ 0.  0.  0.  1.  0.  0.  1.  0. -1.  0.]\n",
      " [ 0. -1.  0.  0. -1.  1.  0.  0. -1.  0.]\n",
      " [ 0. -1.  1.  0.  0.  0.  0.  0.  1. -1.]\n",
      " [-1.  0.  0. -1. -1. -1. -1.  0.  0. -1.]\n",
      " [ 0.  1.  1. -1.  0.  0.  0.  1.  0.  1.]\n",
      " [ 0.  0.  0.  0.  0.  0.  0.  0.  0.  0.]\n",
      " [ 0.  0.  1.  0.  1.  0. -1.  0.  0.  1.]]\n",
      "[ 0. -1. -1. -1.  0.  0.  1. -1.  0.  1.]\n",
      "[ 0.  1.  0.  0.  0.  0. -1.  0.  0.  0.]\n"
     ]
    }
   ],
   "source": [
    "print(houses)\n",
    "print(houses[0,:])\n",
    "print(houses[:,0])\n",
    "houses_start = houses"
   ]
  },
  {
   "cell_type": "code",
   "execution_count": 14,
   "metadata": {
    "collapsed": false
   },
   "outputs": [
    {
     "data": {
      "image/png": "[encoded data removed]",
      "text/plain": [
       "<matplotlib.figure.Figure at 0x7f21dd330b70>"
      ]
     },
     "metadata": {},
     "output_type": "display_data"
    }
   ],
   "source": [
    "plt.figure(figsize=(5,5))\n",
    "plt.imshow(houses,interpolation=\"None\")\n",
    "plt.show()"
   ]
  },
  {
   "cell_type": "code",
   "execution_count": 15,
   "metadata": {
    "collapsed": true
   },
   "outputs": [],
   "source": [
    "def neighborValues(x, y):\n",
    "    if(x == 0):\n",
    "        if(y == 0):\n",
    "            return [houses[1,0], houses[1,1], houses[0,1]]\n",
    "        elif(y == 9):\n",
    "            return [houses[0,8], houses[1,8], houses[1,9]]\n",
    "        else:\n",
    "            return [houses[x,y-1], houses[x+1,y-1], houses[x+1,y], houses[x+1,y+1], houses[x,y+1]]\n",
    "    elif(x == 9):\n",
    "        if(y == 0):\n",
    "            return [houses[8,0], houses[8,1], houses[9,1]]\n",
    "        elif(y == 9):\n",
    "            return [houses[9,8], houses[8,8], houses[8,9]]\n",
    "        else:\n",
    "            return [houses[x,y-1], houses[x-1,y-1], houses[x-1,y], houses[x-1,y+1], houses[x,y+1]]\n",
    "    elif((y == 0) & (x != 0) & (x !=9)):\n",
    "        return [houses[x-1,y], houses[x-1,y+1], houses[x,y+1], houses[x+1,y+1], houses[x+1,y]]\n",
    "    elif((y == 9) & (x != 0) & (x !=9)):\n",
    "        return [houses[x-1,y], houses[x-1,y-1], houses[x,y-1], houses[x+1,y-1], houses[x+1,y]]\n",
    "    else:\n",
    "        return [houses[x,y-1], houses[x+1,y-1], houses[x+1,y], houses[x+1,y+1], houses[x,y+1], houses[x-1,y+1], houses[x-1,y], houses[x-1,y-1]]"
   ]
  },
  {
   "cell_type": "code",
   "execution_count": 16,
   "metadata": {
    "collapsed": false
   },
   "outputs": [
    {
     "name": "stdout",
     "output_type": "stream",
     "text": [
      "[0.0, 0.0, 1.0, 0.0, 0.0, 0.0, 0.0, -1.0]\n",
      "[0.0, 0.0, 0.0]\n"
     ]
    },
    {
     "data": {
      "text/plain": [
       "[1.0, 0.0, 0.0, 1.0, 0.0, -1.0, -1.0, 0.0]"
      ]
     },
     "execution_count": 16,
     "metadata": {},
     "output_type": "execute_result"
    }
   ],
   "source": [
    "print(neighborValues(8,4))\n",
    "print(neighborValues(9,9))\n",
    "neighborValues(1,1)"
   ]
  },
  {
   "cell_type": "code",
   "execution_count": 17,
   "metadata": {
    "collapsed": true
   },
   "outputs": [],
   "source": [
    "def funcion(x):\n",
    "    if (x <= 0.5):\n",
    "        return 2*x\n",
    "    else:\n",
    "        return -x + 1.5"
   ]
  },
  {
   "cell_type": "code",
   "execution_count": 18,
   "metadata": {
    "collapsed": true
   },
   "outputs": [],
   "source": [
    "def probability(value, list_neighbors):\n",
    "    num = 0\n",
    "    for neighbor in (list_neighbors):\n",
    "        if(neighbor == value):\n",
    "            num += 1\n",
    "    prob = num/len(list_neighbors)\n",
    "    return funcion(prob)\n",
    "    #hacer funcion happy, interpolar!"
   ]
  },
  {
   "cell_type": "code",
   "execution_count": 19,
   "metadata": {
    "collapsed": true
   },
   "outputs": [],
   "source": [
    "def happier(value, x, y, newx, newy):\n",
    "    neighbors_before = neighborValues(x, y)\n",
    "    neighbors_after = neighborValues(newx, newy)\n",
    "    before = probability (value, neighbors_before)\n",
    "    after  = probability (value, neighbos_after)\n",
    "    if(before < after):\n",
    "        return true"
   ]
  },
  {
   "cell_type": "code",
   "execution_count": null,
   "metadata": {
    "collapsed": false
   },
   "outputs": [],
   "source": [
    "moves = 0\n",
    "while moves <= 100:\n",
    "    x_index = int(10*np.random.random())\n",
    "    y_index = int(10*np.random.random())\n",
    "    if(houses[x_index, y_index] != 0):\n",
    "        value = houses[x_index, y_index]\n",
    "        new_x = int(10*np.random.random())\n",
    "        new_y = int(10*np.random.random())\n",
    "        if(houses[x_index, y_index] == 0 and happier(value, x_index, y_index, new_x, new_y)):\n",
    "            houses[x_index, y_index] = 0\n",
    "            houses[new_x, new_y] = value\n",
    "            moves += 1"
   ]
  },
  {
   "cell_type": "code",
   "execution_count": null,
   "metadata": {
    "collapsed": true
   },
   "outputs": [],
   "source": [
    "plt.figure(figsize=(5,5))\n",
    "plt.imshow(houses,interpolation=\"None\")\n",
    "plt.show()"
   ]
  },
  {
   "cell_type": "code",
   "execution_count": null,
   "metadata": {
    "collapsed": true
   },
   "outputs": [],
   "source": [
    "moves = 0\n",
    "while moves <= 500:\n",
    "    x_index = int(10*np.random.random())\n",
    "    y_index = int(10*np.random.random())\n",
    "    if(houses[x_index, y_index] != 0):\n",
    "        value = houses[x_index, y_index]\n",
    "        new_x = int(10*np.random.random())\n",
    "        new_y = int(10*np.random.random())\n",
    "        if(houses[x_index, y_index] == 0 and happier(value, x_index, y_index, new_x, new_y)):\n",
    "            houses[x_index, y_index] = 0\n",
    "            houses[new_x, new_y] = value\n",
    "            moves += 1\n",
    "plt.figure(figsize=(5,5))\n",
    "plt.imshow(houses,interpolation=\"None\")\n",
    "plt.show()"
   ]
  },
  {
   "cell_type": "code",
   "execution_count": null,
   "metadata": {
    "collapsed": true
   },
   "outputs": [],
   "source": [
    "plt.figure(figsize=(10,5))\n",
    "plt.subplot(1,2,1)\n",
    "plt.imshow(houses_start,interpolation=\"None\")\n",
    "plt.title(\"Before\")\n",
    "plt.subplot(1,2,2)\n",
    "plt.imshow(houses,interpolation=\"None\")\n",
    "plt.title(\"End\")\n",
    "plt.show()"
   ]
  }
 ],
 "metadata": {
  "kernelspec": {
   "display_name": "Python 3",
   "language": "python",
   "name": "python3"
  },
  "language_info": {
   "codemirror_mode": {
    "name": "ipython",
    "version": 3
   },
   "file_extension": ".py",
   "mimetype": "text/x-python",
   "name": "python",
   "nbconvert_exporter": "python",
   "pygments_lexer": "ipython3",
   "version": "3.6.0"
  }
 },
 "nbformat": 4,
 "nbformat_minor": 2
}
